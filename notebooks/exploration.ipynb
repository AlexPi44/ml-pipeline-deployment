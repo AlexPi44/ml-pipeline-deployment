{
 "cells": [
  {
   "cell_type": "markdown",
   "id": "d335d16d",
   "metadata": {},
   "source": [
    "# Data Exploration\n",
    "Explore raw data and features."
   ]
  },
  {
   "cell_type": "code",
   "execution_count": null,
   "id": "238abd00",
   "metadata": {},
   "outputs": [],
   "source": [
    "import pandas as pd\n",
    "df = pd.read_parquet('s3://ml-dev-raw-data/data.parquet')\n",
    "df.head()"
   ]
  }
 ],
 "metadata": {
  "language_info": {
   "name": "python"
  }
 },
 "nbformat": 4,
 "nbformat_minor": 5
}
